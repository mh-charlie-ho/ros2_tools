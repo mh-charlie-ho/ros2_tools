{
 "cells": [
  {
   "cell_type": "markdown",
   "metadata": {},
   "source": [
    "## Show the .npy data"
   ]
  },
  {
   "cell_type": "code",
   "execution_count": 16,
   "metadata": {},
   "outputs": [
    {
     "name": "stdout",
     "output_type": "stream",
     "text": [
      "Loaded point cloud with shape: (38436, 4)\n",
      "First 5 points:\n",
      "[[-80.778076    1.5527247 -16.137518    6.       ]\n",
      " [-80.335915    2.036607  -16.050392   10.       ]\n",
      " [-80.83289     1.5495238 -15.901518    8.       ]\n",
      " [-79.915344    2.5158896 -15.968171    8.       ]\n",
      " [-79.68988     2.997535  -15.925587    7.       ]]\n"
     ]
    }
   ],
   "source": [
    "import numpy as np\n",
    "\n",
    "file_path = \"/pc2_npy_cache/pc2_0_1724228086076331046.npy\"\n",
    "points = np.load(file_path)\n",
    "\n",
    "print(f\"Loaded point cloud with shape: {points.shape}\")\n",
    "print(\"First 5 points:\")\n",
    "print(points[:5])"
   ]
  },
  {
   "cell_type": "code",
   "execution_count": 19,
   "metadata": {},
   "outputs": [
    {
     "name": "stdout",
     "output_type": "stream",
     "text": [
      "Loaded point cloud with shape: (982, 678)\n",
      "[[-24.08 -24.06 -24.06 ... -23.28 -23.27 -23.27]\n",
      " [-24.1  -24.1  -24.08 ... -23.27 -23.27 -23.25]\n",
      " [-24.1  -24.1  -24.08 ... -23.27 -23.25 -23.25]\n",
      " [-24.08 -24.08 -24.08 ... -23.25 -23.25 -23.23]\n",
      " [-24.06 -24.06 -24.06 ... -23.25 -23.25 -23.23]]\n"
     ]
    }
   ],
   "source": [
    "file_path = \"/data/charlie/BagMonster/Dataset/argoverse2/sensor/test/0c6e62d7-bdfa-3061-8d3d-03b13aa21f68/map/0c6e62d7-bdfa-3061-8d3d-03b13aa21f68_ground_height_surface____MIA.npy\"\n",
    "points = np.load(file_path)\n",
    "\n",
    "print(f\"Loaded point cloud with shape: {points.shape}\")\n",
    "print(points[:5])\n"
   ]
  },
  {
   "cell_type": "markdown",
   "metadata": {},
   "source": [
    "## Show the .feather data"
   ]
  },
  {
   "cell_type": "code",
   "execution_count": 22,
   "metadata": {},
   "outputs": [
    {
     "name": "stdout",
     "output_type": "stream",
     "text": [
      "100867 rows\n",
      "x: halffloat\n",
      "y: halffloat\n",
      "z: halffloat\n",
      "intensity: uint8\n",
      "laser_number: uint8\n",
      "offset_ns: int32\n",
      "-- schema metadata --\n",
      "pandas: '{\"index_columns\": [], \"column_indexes\": [], \"columns\": [{\"name\":' + 734\n",
      "--------------------\n",
      "0: name=x, type=halffloat\n",
      "1: name=y, type=halffloat\n",
      "2: name=z, type=halffloat\n",
      "3: name=intensity, type=uint8\n",
      "4: name=laser_number, type=uint8\n",
      "5: name=offset_ns, type=int32\n"
     ]
    }
   ],
   "source": [
    "import pyarrow.feather as feather\n",
    "\n",
    "table = feather.read_table(\n",
    "    \"/data/charlie/BagMonster/Dataset/argoverse2/sensor/test/0c6e62d7-bdfa-3061-8d3d-03b13aa21f68/sensors/lidar/315971436059707000.feather\"\n",
    ")\n",
    "print(table.num_rows, \"rows\")\n",
    "print(table.schema)\n",
    "print(\"--------------------\")\n",
    "for i, field in enumerate(table.schema):\n",
    "    print(f\"{i}: name={field.name}, type={field.type}\")\n"
   ]
  },
  {
   "cell_type": "code",
   "execution_count": 24,
   "metadata": {},
   "outputs": [
    {
     "name": "stdout",
     "output_type": "stream",
     "text": [
      "23694 rows\n",
      "x: halffloat\n",
      "y: halffloat\n",
      "z: halffloat\n",
      "intensity: halffloat\n"
     ]
    }
   ],
   "source": [
    "import pyarrow.feather as feather\n",
    "\n",
    "table = feather.read_table(\n",
    "    \"/data/charlie/BagMonster/Dataset/bag_cache/rosbag2_2025_05_21-18_55_10_0/sensors/lidar/1747824910799631196.feather\"\n",
    ")\n",
    "print(table.num_rows, \"rows\")\n",
    "print(table.schema)"
   ]
  },
  {
   "cell_type": "code",
   "execution_count": 54,
   "metadata": {},
   "outputs": [
    {
     "name": "stdout",
     "output_type": "stream",
     "text": [
      "750\n"
     ]
    },
    {
     "data": {
      "text/html": [
       "<div>\n",
       "<style scoped>\n",
       "    .dataframe tbody tr th:only-of-type {\n",
       "        vertical-align: middle;\n",
       "    }\n",
       "\n",
       "    .dataframe tbody tr th {\n",
       "        vertical-align: top;\n",
       "    }\n",
       "\n",
       "    .dataframe thead th {\n",
       "        text-align: right;\n",
       "    }\n",
       "</style>\n",
       "<table border=\"1\" class=\"dataframe\">\n",
       "  <thead>\n",
       "    <tr style=\"text-align: right;\">\n",
       "      <th></th>\n",
       "      <th>timestamp_ns</th>\n",
       "      <th>qw</th>\n",
       "      <th>qx</th>\n",
       "      <th>qy</th>\n",
       "      <th>qz</th>\n",
       "      <th>tx_m</th>\n",
       "      <th>ty_m</th>\n",
       "      <th>tz_m</th>\n",
       "    </tr>\n",
       "  </thead>\n",
       "  <tbody>\n",
       "    <tr>\n",
       "      <th>0</th>\n",
       "      <td>1747824910799631196</td>\n",
       "      <td>-0.933707</td>\n",
       "      <td>-0.357997</td>\n",
       "      <td>-0.004208</td>\n",
       "      <td>-0.003419</td>\n",
       "      <td>7.362783</td>\n",
       "      <td>-14.446256</td>\n",
       "      <td>138.304825</td>\n",
       "    </tr>\n",
       "    <tr>\n",
       "      <th>1</th>\n",
       "      <td>1747824910859147739</td>\n",
       "      <td>-0.933692</td>\n",
       "      <td>-0.358036</td>\n",
       "      <td>-0.004198</td>\n",
       "      <td>-0.003352</td>\n",
       "      <td>7.362732</td>\n",
       "      <td>-14.446217</td>\n",
       "      <td>138.305679</td>\n",
       "    </tr>\n",
       "    <tr>\n",
       "      <th>2</th>\n",
       "      <td>1747824910959389211</td>\n",
       "      <td>-0.933697</td>\n",
       "      <td>-0.358027</td>\n",
       "      <td>-0.004071</td>\n",
       "      <td>-0.003313</td>\n",
       "      <td>7.362696</td>\n",
       "      <td>-14.446192</td>\n",
       "      <td>138.308823</td>\n",
       "    </tr>\n",
       "    <tr>\n",
       "      <th>3</th>\n",
       "      <td>1747824911059436324</td>\n",
       "      <td>-0.933698</td>\n",
       "      <td>-0.358023</td>\n",
       "      <td>-0.004080</td>\n",
       "      <td>-0.003347</td>\n",
       "      <td>7.362665</td>\n",
       "      <td>-14.446167</td>\n",
       "      <td>138.307632</td>\n",
       "    </tr>\n",
       "    <tr>\n",
       "      <th>4</th>\n",
       "      <td>1747824911159485891</td>\n",
       "      <td>-0.933690</td>\n",
       "      <td>-0.358044</td>\n",
       "      <td>-0.004054</td>\n",
       "      <td>-0.003337</td>\n",
       "      <td>7.362635</td>\n",
       "      <td>-14.446135</td>\n",
       "      <td>138.305954</td>\n",
       "    </tr>\n",
       "  </tbody>\n",
       "</table>\n",
       "</div>"
      ],
      "text/plain": [
       "          timestamp_ns        qw        qx        qy        qz      tx_m  \\\n",
       "0  1747824910799631196 -0.933707 -0.357997 -0.004208 -0.003419  7.362783   \n",
       "1  1747824910859147739 -0.933692 -0.358036 -0.004198 -0.003352  7.362732   \n",
       "2  1747824910959389211 -0.933697 -0.358027 -0.004071 -0.003313  7.362696   \n",
       "3  1747824911059436324 -0.933698 -0.358023 -0.004080 -0.003347  7.362665   \n",
       "4  1747824911159485891 -0.933690 -0.358044 -0.004054 -0.003337  7.362635   \n",
       "\n",
       "        ty_m        tz_m  \n",
       "0 -14.446256  138.304825  \n",
       "1 -14.446217  138.305679  \n",
       "2 -14.446192  138.308823  \n",
       "3 -14.446167  138.307632  \n",
       "4 -14.446135  138.305954  "
      ]
     },
     "execution_count": 54,
     "metadata": {},
     "output_type": "execute_result"
    }
   ],
   "source": [
    "import pandas as pd\n",
    "table = pd.read_feather(\n",
    "    \"/data/charlie/BagMonster/Dataset/bag_cache/rosbag2_2025_05_21-18_55_10_0/city_SE3_egovehicle.feather\"\n",
    ")\n",
    "print(len(table[\"timestamp_ns\"].values))\n",
    "table[0:5]"
   ]
  }
 ],
 "metadata": {
  "kernelspec": {
   "display_name": "Python 3",
   "language": "python",
   "name": "python3"
  },
  "language_info": {
   "codemirror_mode": {
    "name": "ipython",
    "version": 3
   },
   "file_extension": ".py",
   "mimetype": "text/x-python",
   "name": "python",
   "nbconvert_exporter": "python",
   "pygments_lexer": "ipython3",
   "version": "3.10.12"
  }
 },
 "nbformat": 4,
 "nbformat_minor": 2
}
