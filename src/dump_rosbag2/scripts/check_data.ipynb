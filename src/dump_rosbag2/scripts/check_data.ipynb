{
 "cells": [
  {
   "cell_type": "markdown",
   "metadata": {},
   "source": [
    "## Show the .npy data"
   ]
  },
  {
   "cell_type": "code",
   "execution_count": null,
   "metadata": {},
   "outputs": [],
   "source": [
    "import numpy as np\n",
    "\n",
    "file_path = \"/pc2_npy_cache/pc2_0_1724228086076331046.npy\"\n",
    "points = np.load(file_path)\n",
    "\n",
    "print(f\"Loaded point cloud with shape: {points.shape}\")\n",
    "print(\"First 5 points:\")\n",
    "print(points[:5])"
   ]
  },
  {
   "cell_type": "code",
   "execution_count": null,
   "metadata": {},
   "outputs": [],
   "source": [
    "file_path = \"/data/charlie/BagMonster/Dataset/argoverse2/sensor/test/0c6e62d7-bdfa-3061-8d3d-03b13aa21f68/map/0c6e62d7-bdfa-3061-8d3d-03b13aa21f68_ground_height_surface____MIA.npy\"\n",
    "points = np.load(file_path)\n",
    "\n",
    "print(f\"Loaded point cloud with shape: {points.shape}\")\n",
    "print(points[:5])\n"
   ]
  },
  {
   "cell_type": "markdown",
   "metadata": {},
   "source": [
    "## Show the .feather data"
   ]
  },
  {
   "cell_type": "code",
   "execution_count": 2,
   "metadata": {},
   "outputs": [
    {
     "name": "stdout",
     "output_type": "stream",
     "text": [
      "35392 rows\n",
      "timestamp_ns: int64\n",
      "qw: double\n",
      "qx: double\n",
      "qy: double\n",
      "qz: double\n",
      "tx_m: double\n",
      "ty_m: double\n",
      "tz_m: double\n",
      "--------------------\n",
      "0: name=timestamp_ns, type=int64\n",
      "1: name=qw, type=double\n",
      "2: name=qx, type=double\n",
      "3: name=qy, type=double\n",
      "4: name=qz, type=double\n",
      "5: name=tx_m, type=double\n",
      "6: name=ty_m, type=double\n",
      "7: name=tz_m, type=double\n"
     ]
    }
   ],
   "source": [
    "import pyarrow.feather as feather\n",
    "\n",
    "table = feather.read_table(\n",
    "    \"/home/charlie/charlie_ws/conversion_bag/done/ego_state.feather\"\n",
    ")\n",
    "print(table.num_rows, \"rows\")\n",
    "print(table.schema)\n",
    "print(\"--------------------\")\n",
    "for i, field in enumerate(table.schema):\n",
    "    print(f\"{i}: name={field.name}, type={field.type}\")\n"
   ]
  },
  {
   "cell_type": "code",
   "execution_count": null,
   "metadata": {},
   "outputs": [],
   "source": [
    "import pandas as pd\n",
    "\n",
    "# table = pd.read_feather(root_path + \"ego_state_origin.feather\")\n",
    "# print(table)\n",
    "# print(table.shape)\n",
    "# print(table.dtypes)"
   ]
  },
  {
   "cell_type": "code",
   "execution_count": 60,
   "metadata": {},
   "outputs": [
    {
     "name": "stdout",
     "output_type": "stream",
     "text": [
      "750 files\n",
      "first five files:\n",
      "1747824910799631196.feather\n",
      "1747824910859147739.feather\n",
      "1747824910959389211.feather\n",
      "750 rows\n",
      "[\n",
      "  [\n",
      "    1747824910799631196,\n",
      "    1747824910859147739,\n",
      "    1747824910959389211\n",
      "  ]\n",
      "]\n",
      "738 files\n",
      "first five files:\n",
      "1747824911941491654.feather\n",
      "1747824911991344444.feather\n",
      "1747824912067825427.feather\n",
      "738 rows\n",
      "[\n",
      "  [\n",
      "    1747824911941491654,\n",
      "    1747824911991344444,\n",
      "    1747824912067825427\n",
      "  ]\n",
      "]\n"
     ]
    }
   ],
   "source": [
    "import pyarrow.feather as feather\n",
    "from pathlib import Path\n",
    "\n",
    "root_path = \"/media/charlie/BagMonster/Dataset/itri-scene-flow/proc_bag/basketball/test\"\n",
    "\n",
    "sequence = \"/00001-raw\"\n",
    "folder_path = Path(root_path + sequence + \"/sensors/lidar\")\n",
    "num_files = sum(1 for f in folder_path.iterdir() if f.is_file())\n",
    "print(f\"{num_files} files\")\n",
    "files = [f.name for f in folder_path.iterdir() if f.is_file()]\n",
    "files = sorted(files)\n",
    "print(\"first five files:\")\n",
    "for name in files[0:3]:\n",
    "    print(name)\n",
    "table = feather.read_table(root_path + sequence + \"/city_SE3_egovehicle.feather\")\n",
    "print(table.num_rows, \"rows\")\n",
    "print(table[\"timestamp_ns\"][:3])\n",
    "\n",
    "sequence = \"/00002-no-ground\"\n",
    "folder_path = Path(root_path + sequence + \"/sensors/lidar\")\n",
    "num_files = sum(1 for f in folder_path.iterdir() if f.is_file())\n",
    "print(f\"{num_files} files\")\n",
    "files = [f.name for f in folder_path.iterdir() if f.is_file()]\n",
    "files = sorted(files)\n",
    "print(\"first five files:\")\n",
    "for name in files[:3]:\n",
    "    print(name)\n",
    "table = feather.read_table(root_path + sequence + \"/city_SE3_egovehicle.feather\")\n",
    "print(table.num_rows, \"rows\")\n",
    "print(table[\"timestamp_ns\"][:3])\n",
    "\n",
    "# table = feather.read_table(root_path + \"/ego_state_origin.feather\")\n",
    "# print(table.num_rows, \"rows\")\n",
    "# # print(table.schema)\n",
    "# print(table[\"timestamp_ns\"][130:140])"
   ]
  },
  {
   "cell_type": "code",
   "execution_count": null,
   "metadata": {},
   "outputs": [
    {
     "ename": "",
     "evalue": "",
     "output_type": "error",
     "traceback": [
      "\u001b[1;31mRunning cells with 'Python 3.10.12' requires the ipykernel package.\n",
      "\u001b[1;31mRun the following command to install 'ipykernel' into the Python environment. \n",
      "\u001b[1;31mCommand: '/bin/python3.10 -m pip install ipykernel -U --user --force-reinstall'"
     ]
    }
   ],
   "source": [
    "import sys"
   ]
  }
 ],
 "metadata": {
  "kernelspec": {
   "display_name": "Python 3",
   "language": "python",
   "name": "python3"
  },
  "language_info": {
   "codemirror_mode": {
    "name": "ipython",
    "version": 3
   },
   "file_extension": ".py",
   "mimetype": "text/x-python",
   "name": "python",
   "nbconvert_exporter": "python",
   "pygments_lexer": "ipython3",
   "version": "3.12.2"
  }
 },
 "nbformat": 4,
 "nbformat_minor": 2
}
