{
 "cells": [
  {
   "cell_type": "markdown",
   "metadata": {},
   "source": [
    "## Show the .npy data"
   ]
  },
  {
   "cell_type": "code",
   "execution_count": 1,
   "metadata": {},
   "outputs": [
    {
     "name": "stdout",
     "output_type": "stream",
     "text": [
      "Loaded point cloud with shape: (38436, 4)\n",
      "First 5 points:\n",
      "[[-80.778076    1.5527247 -16.137518    6.       ]\n",
      " [-80.335915    2.036607  -16.050392   10.       ]\n",
      " [-80.83289     1.5495238 -15.901518    8.       ]\n",
      " [-79.915344    2.5158896 -15.968171    8.       ]\n",
      " [-79.68988     2.997535  -15.925587    7.       ]]\n"
     ]
    }
   ],
   "source": [
    "import numpy as np\n",
    "\n",
    "file_path = \"/pc2_npy_cache/pc2_0_1724228086076331046.npy\"\n",
    "points = np.load(file_path)\n",
    "\n",
    "print(f\"Loaded point cloud with shape: {points.shape}\")\n",
    "print(\"First 5 points:\")\n",
    "print(points[:5])"
   ]
  },
  {
   "cell_type": "markdown",
   "metadata": {},
   "source": [
    "## Show the .feather data"
   ]
  },
  {
   "cell_type": "code",
   "execution_count": 5,
   "metadata": {},
   "outputs": [
    {
     "name": "stdout",
     "output_type": "stream",
     "text": [
      "38436 rows\n",
      "x: halffloat\n",
      "y: halffloat\n",
      "z: halffloat\n",
      "intensity: halffloat\n",
      "--------------------\n",
      "0: name=x, type=halffloat\n",
      "1: name=y, type=halffloat\n",
      "2: name=z, type=halffloat\n",
      "3: name=intensity, type=halffloat\n"
     ]
    }
   ],
   "source": [
    "import pyarrow.feather as feather\n",
    "\n",
    "table = feather.read_table(\n",
    "    \"/feather_output/pc2_0_1724228086076331046.feather\"\n",
    ")\n",
    "print(table.num_rows, \"rows\")\n",
    "print(table.schema)\n",
    "print(\"--------------------\")\n",
    "for i, field in enumerate(table.schema):\n",
    "    print(f\"{i}: name={field.name}, type={field.type}\")\n"
   ]
  }
 ],
 "metadata": {
  "kernelspec": {
   "display_name": "Python 3",
   "language": "python",
   "name": "python3"
  },
  "language_info": {
   "codemirror_mode": {
    "name": "ipython",
    "version": 3
   },
   "file_extension": ".py",
   "mimetype": "text/x-python",
   "name": "python",
   "nbconvert_exporter": "python",
   "pygments_lexer": "ipython3",
   "version": "3.10.12"
  }
 },
 "nbformat": 4,
 "nbformat_minor": 2
}
