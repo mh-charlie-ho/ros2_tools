{
 "cells": [
  {
   "cell_type": "markdown",
   "metadata": {},
   "source": [
    "## Show the .npy data"
   ]
  },
  {
   "cell_type": "code",
   "execution_count": null,
   "metadata": {},
   "outputs": [],
   "source": [
    "import numpy as np\n",
    "\n",
    "file_path = \"/pc2_npy_cache/pc2_0_1724228086076331046.npy\"\n",
    "points = np.load(file_path)\n",
    "\n",
    "print(f\"Loaded point cloud with shape: {points.shape}\")\n",
    "print(\"First 5 points:\")\n",
    "print(points[:5])"
   ]
  },
  {
   "cell_type": "code",
   "execution_count": null,
   "metadata": {},
   "outputs": [],
   "source": [
    "file_path = \"/data/charlie/BagMonster/Dataset/argoverse2/sensor/test/0c6e62d7-bdfa-3061-8d3d-03b13aa21f68/map/0c6e62d7-bdfa-3061-8d3d-03b13aa21f68_ground_height_surface____MIA.npy\"\n",
    "points = np.load(file_path)\n",
    "\n",
    "print(f\"Loaded point cloud with shape: {points.shape}\")\n",
    "print(points[:5])\n"
   ]
  },
  {
   "cell_type": "markdown",
   "metadata": {},
   "source": [
    "## Show the .feather data"
   ]
  },
  {
   "cell_type": "code",
   "execution_count": 2,
   "metadata": {},
   "outputs": [
    {
     "name": "stdout",
     "output_type": "stream",
     "text": [
      "35392 rows\n",
      "timestamp_ns: int64\n",
      "qw: double\n",
      "qx: double\n",
      "qy: double\n",
      "qz: double\n",
      "tx_m: double\n",
      "ty_m: double\n",
      "tz_m: double\n",
      "--------------------\n",
      "0: name=timestamp_ns, type=int64\n",
      "1: name=qw, type=double\n",
      "2: name=qx, type=double\n",
      "3: name=qy, type=double\n",
      "4: name=qz, type=double\n",
      "5: name=tx_m, type=double\n",
      "6: name=ty_m, type=double\n",
      "7: name=tz_m, type=double\n"
     ]
    }
   ],
   "source": [
    "import pyarrow.feather as feather\n",
    "\n",
    "table = feather.read_table(\n",
    "    \"/home/charlie/charlie_ws/conversion_bag/done/ego_state.feather\"\n",
    ")\n",
    "print(table.num_rows, \"rows\")\n",
    "print(table.schema)\n",
    "print(\"--------------------\")\n",
    "for i, field in enumerate(table.schema):\n",
    "    print(f\"{i}: name={field.name}, type={field.type}\")\n"
   ]
  },
  {
   "cell_type": "code",
   "execution_count": null,
   "metadata": {},
   "outputs": [
    {
     "ename": "",
     "evalue": "",
     "output_type": "error",
     "traceback": [
      "\u001b[1;31mRunning cells with 'Python 3.10.12' requires the ipykernel package.\n",
      "\u001b[1;31mRun the following command to install 'ipykernel' into the Python environment. \n",
      "\u001b[1;31mCommand: '/usr/bin/python3.10 -m pip install ipykernel -U --user --force-reinstall'"
     ]
    }
   ],
   "source": [
    "import pandas as pd\n",
    "table = pd.read_feather(\n",
    "    \"/charlie_ws/conversion_bag/itri-around-test/city_SE3_egovehicle.feather\"\n",
    ")\n",
    "print(len(table[\"timestamp_ns\"].values))\n",
    "table[0:5]"
   ]
  },
  {
   "cell_type": "code",
   "execution_count": null,
   "metadata": {},
   "outputs": [
    {
     "ename": "",
     "evalue": "",
     "output_type": "error",
     "traceback": [
      "\u001b[1;31mRunning cells with 'Python 3.10.12' requires the ipykernel package.\n",
      "\u001b[1;31mRun the following command to install 'ipykernel' into the Python environment. \n",
      "\u001b[1;31mCommand: '/bin/python3.10 -m pip install ipykernel -U --user --force-reinstall'"
     ]
    }
   ],
   "source": [
    "import sys"
   ]
  }
 ],
 "metadata": {
  "kernelspec": {
   "display_name": "Python 3",
   "language": "python",
   "name": "python3"
  },
  "language_info": {
   "codemirror_mode": {
    "name": "ipython",
    "version": 3
   },
   "file_extension": ".py",
   "mimetype": "text/x-python",
   "name": "python",
   "nbconvert_exporter": "python",
   "pygments_lexer": "ipython3",
   "version": "3.10.12"
  }
 },
 "nbformat": 4,
 "nbformat_minor": 2
}
